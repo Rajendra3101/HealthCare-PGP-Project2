{
 "cells": [
  {
   "cell_type": "markdown",
   "id": "d2f57de8",
   "metadata": {},
   "source": [
    "# Capstone Project - Health Care\n",
    "\n",
    "## Phase 3 - Predictive Analysis"
   ]
  },
  {
   "cell_type": "code",
   "execution_count": 1,
   "id": "c510bfbc",
   "metadata": {},
   "outputs": [],
   "source": [
    "import pandas as pd\n",
    "import numpy as np\n",
    "import matplotlib.pyplot as plt\n",
    "import seaborn as sns\n",
    "import warnings\n",
    "warnings.filterwarnings('ignore')\n",
    "%matplotlib inline\n",
    "from sklearn import metrics"
   ]
  },
  {
   "cell_type": "code",
   "execution_count": 2,
   "id": "fc813642",
   "metadata": {},
   "outputs": [
    {
     "data": {
      "text/html": [
       "<div>\n",
       "<style scoped>\n",
       "    .dataframe tbody tr th:only-of-type {\n",
       "        vertical-align: middle;\n",
       "    }\n",
       "\n",
       "    .dataframe tbody tr th {\n",
       "        vertical-align: top;\n",
       "    }\n",
       "\n",
       "    .dataframe thead th {\n",
       "        text-align: right;\n",
       "    }\n",
       "</style>\n",
       "<table border=\"1\" class=\"dataframe\">\n",
       "  <thead>\n",
       "    <tr style=\"text-align: right;\">\n",
       "      <th></th>\n",
       "      <th>Pregnancies</th>\n",
       "      <th>Glucose</th>\n",
       "      <th>BloodPressure</th>\n",
       "      <th>SkinThickness</th>\n",
       "      <th>Insulin</th>\n",
       "      <th>BMI</th>\n",
       "      <th>DiabetesPedigreeFunction</th>\n",
       "      <th>Age</th>\n",
       "      <th>Outcome</th>\n",
       "    </tr>\n",
       "  </thead>\n",
       "  <tbody>\n",
       "    <tr>\n",
       "      <th>0</th>\n",
       "      <td>6</td>\n",
       "      <td>148</td>\n",
       "      <td>72.0</td>\n",
       "      <td>35.000000</td>\n",
       "      <td>79.799479</td>\n",
       "      <td>33.6</td>\n",
       "      <td>0.627</td>\n",
       "      <td>50</td>\n",
       "      <td>1</td>\n",
       "    </tr>\n",
       "    <tr>\n",
       "      <th>1</th>\n",
       "      <td>1</td>\n",
       "      <td>85</td>\n",
       "      <td>66.0</td>\n",
       "      <td>29.000000</td>\n",
       "      <td>79.799479</td>\n",
       "      <td>26.6</td>\n",
       "      <td>0.351</td>\n",
       "      <td>31</td>\n",
       "      <td>0</td>\n",
       "    </tr>\n",
       "    <tr>\n",
       "      <th>2</th>\n",
       "      <td>8</td>\n",
       "      <td>183</td>\n",
       "      <td>64.0</td>\n",
       "      <td>20.536458</td>\n",
       "      <td>79.799479</td>\n",
       "      <td>23.3</td>\n",
       "      <td>0.672</td>\n",
       "      <td>32</td>\n",
       "      <td>1</td>\n",
       "    </tr>\n",
       "    <tr>\n",
       "      <th>3</th>\n",
       "      <td>1</td>\n",
       "      <td>89</td>\n",
       "      <td>66.0</td>\n",
       "      <td>23.000000</td>\n",
       "      <td>94.000000</td>\n",
       "      <td>28.1</td>\n",
       "      <td>0.167</td>\n",
       "      <td>21</td>\n",
       "      <td>0</td>\n",
       "    </tr>\n",
       "    <tr>\n",
       "      <th>4</th>\n",
       "      <td>0</td>\n",
       "      <td>137</td>\n",
       "      <td>40.0</td>\n",
       "      <td>35.000000</td>\n",
       "      <td>168.000000</td>\n",
       "      <td>43.1</td>\n",
       "      <td>2.288</td>\n",
       "      <td>33</td>\n",
       "      <td>1</td>\n",
       "    </tr>\n",
       "  </tbody>\n",
       "</table>\n",
       "</div>"
      ],
      "text/plain": [
       "   Pregnancies  Glucose  BloodPressure  SkinThickness     Insulin   BMI  \\\n",
       "0            6      148           72.0      35.000000   79.799479  33.6   \n",
       "1            1       85           66.0      29.000000   79.799479  26.6   \n",
       "2            8      183           64.0      20.536458   79.799479  23.3   \n",
       "3            1       89           66.0      23.000000   94.000000  28.1   \n",
       "4            0      137           40.0      35.000000  168.000000  43.1   \n",
       "\n",
       "   DiabetesPedigreeFunction  Age  Outcome  \n",
       "0                     0.627   50        1  \n",
       "1                     0.351   31        0  \n",
       "2                     0.672   32        1  \n",
       "3                     0.167   21        0  \n",
       "4                     2.288   33        1  "
      ]
     },
     "execution_count": 2,
     "metadata": {},
     "output_type": "execute_result"
    }
   ],
   "source": [
    "df=pd.read_csv('Phase1_HealthCare.csv')\n",
    "df.head()"
   ]
  },
  {
   "cell_type": "markdown",
   "id": "e7d2aa4f",
   "metadata": {},
   "source": [
    "## Data Preprocessing"
   ]
  },
  {
   "cell_type": "code",
   "execution_count": 3,
   "id": "ecea1f39",
   "metadata": {},
   "outputs": [],
   "source": [
    "x=df.iloc[:,:-1].values\n",
    "y=df.iloc[:,-1].values"
   ]
  },
  {
   "cell_type": "code",
   "execution_count": 4,
   "id": "5447835a",
   "metadata": {},
   "outputs": [],
   "source": [
    "from sklearn.model_selection import train_test_split\n",
    "x_train,x_test,y_train,y_test=train_test_split(x,y,test_size=0.20,random_state=0)"
   ]
  },
  {
   "cell_type": "code",
   "execution_count": 5,
   "id": "dc20c7e3",
   "metadata": {},
   "outputs": [
    {
     "name": "stdout",
     "output_type": "stream",
     "text": [
      "(614, 8)\n",
      "(154, 8)\n",
      "(614,)\n",
      "(154,)\n"
     ]
    }
   ],
   "source": [
    "print(x_train.shape)\n",
    "print(x_test.shape)\n",
    "print(y_train.shape)\n",
    "print(y_test.shape)"
   ]
  },
  {
   "cell_type": "code",
   "execution_count": 6,
   "id": "358d62e1",
   "metadata": {},
   "outputs": [],
   "source": [
    "from sklearn.preprocessing import StandardScaler"
   ]
  },
  {
   "cell_type": "code",
   "execution_count": 7,
   "id": "3e2b258c",
   "metadata": {},
   "outputs": [],
   "source": [
    "Scale=StandardScaler()\n",
    "x_train_std=Scale.fit_transform(x_train)\n",
    "x_test_std=Scale.transform(x_test)"
   ]
  },
  {
   "cell_type": "code",
   "execution_count": 8,
   "id": "1da37a81",
   "metadata": {},
   "outputs": [],
   "source": [
    "norm=lambda a:(a-min(a))/(max(a)-min(a))"
   ]
  },
  {
   "cell_type": "code",
   "execution_count": 9,
   "id": "d1579cad",
   "metadata": {},
   "outputs": [],
   "source": [
    "df_norm=df.iloc[:,:-1]"
   ]
  },
  {
   "cell_type": "code",
   "execution_count": 10,
   "id": "0cbeb4f0",
   "metadata": {},
   "outputs": [],
   "source": [
    "df_normalized=df_norm.apply(norm)"
   ]
  },
  {
   "cell_type": "code",
   "execution_count": 11,
   "id": "4672c0f6",
   "metadata": {},
   "outputs": [],
   "source": [
    "x_train_norm,x_test_norm,y_train_norm,y_test_norm=train_test_split(df_normalized.values,y,test_size=0.20,random_state=0)"
   ]
  },
  {
   "cell_type": "code",
   "execution_count": 12,
   "id": "7ea17fa9",
   "metadata": {},
   "outputs": [
    {
     "name": "stdout",
     "output_type": "stream",
     "text": [
      "(614, 8)\n",
      "(154, 8)\n",
      "(614,)\n",
      "(154,)\n"
     ]
    }
   ],
   "source": [
    "print(x_train_norm.shape)\n",
    "print(x_test_norm.shape)\n",
    "print(y_train_norm.shape)\n",
    "print(y_test_norm.shape)"
   ]
  },
  {
   "cell_type": "markdown",
   "id": "de62b3eb",
   "metadata": {},
   "source": [
    "Data is mostly numerical and in such scenario, found Logistic Regression shows good result. It is also found that  variables are depending on target somewhat linearly, So this is also good for Logistic Regression. Further, Support Vector Classifier, Perceptron Learning, Random Forest (Ensemble Learning) will be used to find improved accuracy. Note these learning algorithm also works on linear data very well. To validate model, train test split data will be used, for accuracy confusion matrix will be used because classes are balanced and also considering ROC Curve and ROC AUC Score to make sure Type 2 Error will not occur for Positive class, that is 1"
   ]
  },
  {
   "cell_type": "markdown",
   "id": "fb3536d6",
   "metadata": {},
   "source": [
    "## KNN\n",
    "\n",
    "#### KNN With Standard Scaling"
   ]
  },
  {
   "cell_type": "code",
   "execution_count": 13,
   "id": "f0c24a8a",
   "metadata": {},
   "outputs": [],
   "source": [
    "from sklearn.neighbors import KNeighborsClassifier\n",
    "knn_model = KNeighborsClassifier(n_neighbors=25) \n",
    "#Using 25 Neighbors just as thumb rule sqrt of observation\n",
    "knn_model.fit(x_train_std,y_train)\n",
    "knn_pred=knn_model.predict(x_test_std)"
   ]
  },
  {
   "cell_type": "code",
   "execution_count": 14,
   "id": "224a9a5c",
   "metadata": {},
   "outputs": [
    {
     "name": "stdout",
     "output_type": "stream",
     "text": [
      "Model Validation ==>\n",
      "\n",
      "Accuracy Score of KNN Model::\n",
      "0.8246753246753247\n",
      "\n",
      " Classification Report::\n",
      "              precision    recall  f1-score   support\n",
      "\n",
      "           0       0.85      0.91      0.88       107\n",
      "           1       0.75      0.64      0.69        47\n",
      "\n",
      "    accuracy                           0.82       154\n",
      "   macro avg       0.80      0.77      0.78       154\n",
      "weighted avg       0.82      0.82      0.82       154\n",
      " \n",
      "\n",
      "\n",
      " ROC Curve\n"
     ]
    },
    {
     "data": {
      "text/plain": [
       "<matplotlib.legend.Legend at 0x21fe0467f10>"
      ]
     },
     "execution_count": 14,
     "metadata": {},
     "output_type": "execute_result"
    },
    {
     "data": {
      "image/png": "[encoded data removed]",
      "text/plain": [
       "<Figure size 480x320 with 1 Axes>"
      ]
     },
     "metadata": {
      "needs_background": "light"
     },
     "output_type": "display_data"
    }
   ],
   "source": [
    "print(\"Model Validation ==>\\n\")\n",
    "print(\"Accuracy Score of KNN Model::\")\n",
    "print(metrics.accuracy_score(y_test,knn_pred))\n",
    "print(\"\\n\",\"Classification Report::\")\n",
    "print(metrics.classification_report(y_test,knn_pred),'\\n')\n",
    "print(\"\\n\",\"ROC Curve\")\n",
    "knn_prob=knn_model.predict_proba(x_test_std)\n",
    "knn_prob1=knn_prob[:,1]\n",
    "fpr,tpr,thresh=metrics.roc_curve(y_test,knn_prob1)\n",
    "roc_auc_knn=metrics.auc(fpr,tpr)\n",
    "plt.figure(dpi=80)\n",
    "plt.title(\"ROC Curve\")\n",
    "plt.xlabel('False Positive Rate')\n",
    "plt.ylabel('True Positive Rate')\n",
    "plt.plot(fpr,tpr,'b',label='AUC Score = %0.2f'%roc_auc_knn)\n",
    "plt.plot(fpr,fpr,'r--',color='red')\n",
    "plt.legend()"
   ]
  },
  {
   "cell_type": "markdown",
   "id": "bcf94c3d",
   "metadata": {},
   "source": [
    "#### KNN With Normalization"
   ]
  },
  {
   "cell_type": "code",
   "execution_count": 15,
   "id": "e7c86b3d",
   "metadata": {},
   "outputs": [],
   "source": [
    "from sklearn.neighbors import KNeighborsClassifier\n",
    "knn_model_norm = KNeighborsClassifier(n_neighbors=25) \n",
    "#Using 25 Neighbors just as thumb rule sqrt of observation\n",
    "knn_model_norm.fit(x_train_norm,y_train_norm)\n",
    "knn_pred_norm=knn_model_norm.predict(x_test_norm)"
   ]
  },
  {
   "cell_type": "code",
   "execution_count": 16,
   "id": "fbb42c3a",
   "metadata": {},
   "outputs": [
    {
     "name": "stdout",
     "output_type": "stream",
     "text": [
      "Model Validation ==>\n",
      "\n",
      "Accuracy Score of KNN Model with Normalization::\n",
      "0.8181818181818182\n",
      "\n",
      " Classification Report::\n",
      "              precision    recall  f1-score   support\n",
      "\n",
      "           0       0.85      0.90      0.87       107\n",
      "           1       0.73      0.64      0.68        47\n",
      "\n",
      "    accuracy                           0.82       154\n",
      "   macro avg       0.79      0.77      0.78       154\n",
      "weighted avg       0.81      0.82      0.81       154\n",
      " \n",
      "\n",
      "\n",
      " ROC Curve\n"
     ]
    },
    {
     "data": {
      "text/plain": [
       "<matplotlib.legend.Legend at 0x21fe0be7f70>"
      ]
     },
     "execution_count": 16,
     "metadata": {},
     "output_type": "execute_result"
    },
    {
     "data": {
      "image/png": "[encoded data removed]",
      "text/plain": [
       "<Figure size 480x320 with 1 Axes>"
      ]
     },
     "metadata": {
      "needs_background": "light"
     },
     "output_type": "display_data"
    }
   ],
   "source": [
    "print(\"Model Validation ==>\\n\")\n",
    "print(\"Accuracy Score of KNN Model with Normalization::\")\n",
    "print(metrics.accuracy_score(y_test_norm,knn_pred_norm))\n",
    "print(\"\\n\",\"Classification Report::\")\n",
    "print(metrics.classification_report(y_test_norm,knn_pred_norm),'\\n')\n",
    "print(\"\\n\",\"ROC Curve\")\n",
    "knn_prob_norm=knn_model.predict_proba(x_test_norm)\n",
    "knn_prob_norm1=knn_prob_norm[:,1]\n",
    "fpr,tpr,thresh=metrics.roc_curve(y_test_norm,knn_prob_norm1)\n",
    "roc_auc_knn=metrics.auc(fpr,tpr)\n",
    "plt.figure(dpi=80)\n",
    "plt.title(\"ROC Curve\")\n",
    "plt.xlabel('False Positive Rate')\n",
    "plt.ylabel('True Positive Rate')\n",
    "plt.plot(fpr,tpr,'b',label='AUC Score = %0.2f'%roc_auc_knn)\n",
    "plt.plot(fpr,fpr,'r--',color='red')\n",
    "plt.legend()"
   ]
  },
  {
   "cell_type": "markdown",
   "id": "ae886467",
   "metadata": {},
   "source": [
    "#### It is found that KNN with Standardization is better than Normalization, So later, models are build using Z Score Standardization and will compare with KNN"
   ]
  },
  {
   "cell_type": "markdown",
   "id": "6c02c35c",
   "metadata": {},
   "source": [
    "## Support Vectore Classifier"
   ]
  },
  {
   "cell_type": "code",
   "execution_count": 17,
   "id": "40a60913",
   "metadata": {},
   "outputs": [],
   "source": [
    "from sklearn.svm import SVC\n",
    "svc_model_linear = SVC(kernel='linear',random_state=0,probability=True,C=0.01) \n",
    "svc_model_linear.fit(x_train_std,y_train)\n",
    "svc_pred=svc_model_linear.predict(x_test_std)"
   ]
  },
  {
   "cell_type": "code",
   "execution_count": 18,
   "id": "61b5be44",
   "metadata": {},
   "outputs": [
    {
     "name": "stdout",
     "output_type": "stream",
     "text": [
      "Model Validation ==>\n",
      "\n",
      "Accuracy Score of SVC Model with Linear Kernel::\n",
      "0.8181818181818182\n",
      "\n",
      " Classification Report::\n",
      "              precision    recall  f1-score   support\n",
      "\n",
      "           0       0.83      0.93      0.88       107\n",
      "           1       0.77      0.57      0.66        47\n",
      "\n",
      "    accuracy                           0.82       154\n",
      "   macro avg       0.80      0.75      0.77       154\n",
      "weighted avg       0.81      0.82      0.81       154\n",
      " \n",
      "\n",
      "\n",
      " ROC Curve\n"
     ]
    },
    {
     "data": {
      "text/plain": [
       "<matplotlib.legend.Legend at 0x21fe0c58f70>"
      ]
     },
     "execution_count": 18,
     "metadata": {},
     "output_type": "execute_result"
    },
    {
     "data": {
      "image/png": "[encoded data removed]",
      "text/plain": [
       "<Figure size 480x320 with 1 Axes>"
      ]
     },
     "metadata": {
      "needs_background": "light"
     },
     "output_type": "display_data"
    }
   ],
   "source": [
    "print(\"Model Validation ==>\\n\")\n",
    "print(\"Accuracy Score of SVC Model with Linear Kernel::\")\n",
    "print(metrics.accuracy_score(y_test,svc_pred))\n",
    "print(\"\\n\",\"Classification Report::\")\n",
    "print(metrics.classification_report(y_test,svc_pred),'\\n')\n",
    "print(\"\\n\",\"ROC Curve\")\n",
    "svc_prob_linear=svc_model_linear.predict_proba(x_test_std)\n",
    "svc_prob_linear1=svc_prob_linear[:,1]\n",
    "fpr,tpr,thresh=metrics.roc_curve(y_test,svc_prob_linear1)\n",
    "roc_auc_svc=metrics.auc(fpr,tpr)\n",
    "plt.figure(dpi=80)\n",
    "plt.title(\"ROC Curve\")\n",
    "plt.xlabel('False Positive Rate')\n",
    "plt.ylabel('True Positive Rate')\n",
    "plt.plot(fpr,tpr,'b',label='AUC Score = %0.2f'%roc_auc_svc)\n",
    "plt.plot(fpr,fpr,'r--',color='red')\n",
    "plt.legend()"
   ]
  },
  {
   "cell_type": "code",
   "execution_count": 19,
   "id": "415d951c",
   "metadata": {},
   "outputs": [],
   "source": [
    "from sklearn.svm import SVC\n",
    "svc_model_rbf = SVC(kernel='rbf',random_state=0,probability=True,C=1) \n",
    "svc_model_rbf.fit(x_train_std,y_train)\n",
    "svc_pred_rbf=svc_model_rbf.predict(x_test_std)"
   ]
  },
  {
   "cell_type": "code",
   "execution_count": 20,
   "id": "a4c2f502",
   "metadata": {},
   "outputs": [
    {
     "name": "stdout",
     "output_type": "stream",
     "text": [
      "Model Validation ==>\n",
      "\n",
      "Accuracy Score of SVC Model with RBF Kernel::\n",
      "0.7792207792207793\n",
      "\n",
      " Classification Report::\n",
      "              precision    recall  f1-score   support\n",
      "\n",
      "           0       0.82      0.88      0.85       107\n",
      "           1       0.67      0.55      0.60        47\n",
      "\n",
      "    accuracy                           0.78       154\n",
      "   macro avg       0.74      0.72      0.73       154\n",
      "weighted avg       0.77      0.78      0.77       154\n",
      " \n",
      "\n",
      "\n",
      " ROC Curve\n"
     ]
    },
    {
     "data": {
      "text/plain": [
       "<matplotlib.legend.Legend at 0x21fe0b77fa0>"
      ]
     },
     "execution_count": 20,
     "metadata": {},
     "output_type": "execute_result"
    },
    {
     "data": {
      "image/png": "[encoded data removed]",
      "text/plain": [
       "<Figure size 480x320 with 1 Axes>"
      ]
     },
     "metadata": {
      "needs_background": "light"
     },
     "output_type": "display_data"
    }
   ],
   "source": [
    "print(\"Model Validation ==>\\n\")\n",
    "print(\"Accuracy Score of SVC Model with RBF Kernel::\")\n",
    "print(metrics.accuracy_score(y_test,svc_pred_rbf))\n",
    "print(\"\\n\",\"Classification Report::\")\n",
    "print(metrics.classification_report(y_test,svc_pred_rbf),'\\n')\n",
    "print(\"\\n\",\"ROC Curve\")\n",
    "svc_prob_rbf=svc_model_linear.predict_proba(x_test_std)\n",
    "svc_prob_rbf1=svc_prob_rbf[:,1]\n",
    "fpr,tpr,thresh=metrics.roc_curve(y_test,svc_prob_rbf1)\n",
    "roc_auc_svc=metrics.auc(fpr,tpr)\n",
    "plt.figure(dpi=80)\n",
    "plt.title(\"ROC Curve\")\n",
    "plt.xlabel('False Positive Rate')\n",
    "plt.ylabel('True Positive Rate')\n",
    "plt.plot(fpr,tpr,'b',label='AUC Score = %0.2f'%roc_auc_svc)\n",
    "plt.plot(fpr,fpr,'r--',color='red')\n",
    "plt.legend()"
   ]
  },
  {
   "cell_type": "markdown",
   "id": "a37db841",
   "metadata": {},
   "source": [
    "#### SVC with Linear Kernel is better than RBF Kernel, This was actually expected beause variables are somewhat depending linearly with outcome\n",
    "\n",
    "#### Comparing with KNN\n",
    "\n",
    "Both Models are working fine , but SVC Linear with C=0.01 is better in terms of AUC Score."
   ]
  },
  {
   "cell_type": "markdown",
   "id": "9c672012",
   "metadata": {},
   "source": [
    "## Logistic Regression"
   ]
  },
  {
   "cell_type": "code",
   "execution_count": 21,
   "id": "25985e8b",
   "metadata": {},
   "outputs": [],
   "source": [
    "from sklearn.linear_model import LogisticRegression\n",
    "lr_model = LogisticRegression(C=0.01) \n",
    "lr_model.fit(x_train_std,y_train)\n",
    "lr_pred=lr_model.predict(x_test_std)"
   ]
  },
  {
   "cell_type": "code",
   "execution_count": 22,
   "id": "ef8de689",
   "metadata": {},
   "outputs": [
    {
     "name": "stdout",
     "output_type": "stream",
     "text": [
      "Model Validation ==>\n",
      "\n",
      "Accuracy Score of Logistic Regression Model::\n",
      "0.8116883116883117\n",
      "\n",
      " Classification Report::\n",
      "              precision    recall  f1-score   support\n",
      "\n",
      "           0       0.81      0.94      0.87       107\n",
      "           1       0.80      0.51      0.62        47\n",
      "\n",
      "    accuracy                           0.81       154\n",
      "   macro avg       0.81      0.73      0.75       154\n",
      "weighted avg       0.81      0.81      0.80       154\n",
      " \n",
      "\n",
      "\n",
      " ROC Curve\n"
     ]
    },
    {
     "data": {
      "text/plain": [
       "<matplotlib.legend.Legend at 0x21fe0d14e50>"
      ]
     },
     "execution_count": 22,
     "metadata": {},
     "output_type": "execute_result"
    },
    {
     "data": {
      "image/png": "[encoded data removed]",
      "text/plain": [
       "<Figure size 480x320 with 1 Axes>"
      ]
     },
     "metadata": {
      "needs_background": "light"
     },
     "output_type": "display_data"
    }
   ],
   "source": [
    "print(\"Model Validation ==>\\n\")\n",
    "print(\"Accuracy Score of Logistic Regression Model::\")\n",
    "print(metrics.accuracy_score(y_test,lr_pred))\n",
    "print(\"\\n\",\"Classification Report::\")\n",
    "print(metrics.classification_report(y_test,lr_pred),'\\n')\n",
    "print(\"\\n\",\"ROC Curve\")\n",
    "lr_prob=lr_model.predict_proba(x_test_std)\n",
    "lr_prob1=lr_prob[:,1]\n",
    "fpr,tpr,thresh=metrics.roc_curve(y_test,lr_prob1)\n",
    "roc_auc_lr=metrics.auc(fpr,tpr)\n",
    "plt.figure(dpi=80)\n",
    "plt.title(\"ROC Curve\")\n",
    "plt.xlabel('False Positive Rate')\n",
    "plt.ylabel('True Positive Rate')\n",
    "plt.plot(fpr,tpr,'b',label='AUC Score = %0.2f'%roc_auc_lr)\n",
    "plt.plot(fpr,fpr,'r--',color='red')\n",
    "plt.legend()"
   ]
  },
  {
   "cell_type": "markdown",
   "id": "395924f9",
   "metadata": {},
   "source": [
    "##### Accuracy of KNN is better than Logistic Regression,but auc score of Logistic regression is better"
   ]
  },
  {
   "cell_type": "markdown",
   "id": "bc8405ad",
   "metadata": {},
   "source": [
    "## Ensemble Learning(RF)"
   ]
  },
  {
   "cell_type": "code",
   "execution_count": 23,
   "id": "1da8ae99",
   "metadata": {},
   "outputs": [],
   "source": [
    "from sklearn.ensemble import RandomForestClassifier\n",
    "rf_model = RandomForestClassifier(n_estimators=1000,random_state=0)\n",
    "rf_model.fit(x_train_std,y_train)\n",
    "rf_pred=rf_model.predict(x_test_std)"
   ]
  },
  {
   "cell_type": "code",
   "execution_count": 24,
   "id": "7fa7ec5b",
   "metadata": {},
   "outputs": [
    {
     "name": "stdout",
     "output_type": "stream",
     "text": [
      "Model Validation ==>\n",
      "\n",
      "Accuracy Score of Logistic Regression Model::\n",
      "0.8116883116883117\n",
      "\n",
      " Classification Report::\n",
      "              precision    recall  f1-score   support\n",
      "\n",
      "           0       0.86      0.87      0.87       107\n",
      "           1       0.70      0.68      0.69        47\n",
      "\n",
      "    accuracy                           0.81       154\n",
      "   macro avg       0.78      0.78      0.78       154\n",
      "weighted avg       0.81      0.81      0.81       154\n",
      " \n",
      "\n",
      "\n",
      " ROC Curve\n"
     ]
    },
    {
     "data": {
      "text/plain": [
       "<matplotlib.legend.Legend at 0x21fe0ece880>"
      ]
     },
     "execution_count": 24,
     "metadata": {},
     "output_type": "execute_result"
    },
    {
     "data": {
      "image/png": "[encoded data removed]",
      "text/plain": [
       "<Figure size 480x320 with 1 Axes>"
      ]
     },
     "metadata": {
      "needs_background": "light"
     },
     "output_type": "display_data"
    }
   ],
   "source": [
    "print(\"Model Validation ==>\\n\")\n",
    "print(\"Accuracy Score of Logistic Regression Model::\")\n",
    "print(metrics.accuracy_score(y_test,rf_pred))\n",
    "print(\"\\n\",\"Classification Report::\")\n",
    "print(metrics.classification_report(y_test,rf_pred),'\\n')\n",
    "print(\"\\n\",\"ROC Curve\")\n",
    "rf_prob=rf_model.predict_proba(x_test_std)\n",
    "rf_prob1=rf_prob[:,1]\n",
    "fpr,tpr,thresh=metrics.roc_curve(y_test,rf_prob1)\n",
    "roc_auc_rf=metrics.auc(fpr,tpr)\n",
    "plt.figure(dpi=80)\n",
    "plt.plot(fpr,tpr,'b',label='AUC Score = %0.2f'%roc_auc_rf)\n",
    "plt.title(\"ROC Curve\")\n",
    "plt.xlabel('False Positive Rate')\n",
    "plt.ylabel('True Positive Rate')\n",
    "plt.plot(fpr,fpr,'r--',color='red')\n",
    "plt.legend()"
   ]
  },
  {
   "cell_type": "markdown",
   "id": "ac18ff79",
   "metadata": {},
   "source": [
    "#### It is found that Random Forest Classifier is best among all, wondering AUC score is lesser by 1 than others also it is considered it to be best because balance of classes between Precision and Recall is far better than other Models. So considering a loss in AUC by 1"
   ]
  }
 ],
 "metadata": {
  "kernelspec": {
   "display_name": "Python 3",
   "language": "python",
   "name": "python3"
  },
  "language_info": {
   "codemirror_mode": {
    "name": "ipython",
    "version": 3
   },
   "file_extension": ".py",
   "mimetype": "text/x-python",
   "name": "python",
   "nbconvert_exporter": "python",
   "pygments_lexer": "ipython3",
   "version": "3.8.8"
  }
 },
 "nbformat": 4,
 "nbformat_minor": 5
}
